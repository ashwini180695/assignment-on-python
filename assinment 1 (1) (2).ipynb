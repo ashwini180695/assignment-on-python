{
 "cells": [
  {
   "cell_type": "markdown",
   "id": "b0d9381d-62e9-4e24-9ffb-fa5b707b45b8",
   "metadata": {},
   "source": [
    "# ASSIGNMENT ON PYTHON"
   ]
  },
  {
   "cell_type": "markdown",
   "id": "86501cf5-1ffe-421d-b72a-44ab64e1512f",
   "metadata": {},
   "source": [
    "## QUESTION NO.1"
   ]
  },
  {
   "cell_type": "markdown",
   "id": "7732d079-922e-4a08-b7bb-09c7d190a4f7",
   "metadata": {},
   "source": [
    "## key features of python "
   ]
  },
  {
   "cell_type": "markdown",
   "id": "5cd1cfea-90dc-4d49-be7b-cef8d693a6b2",
   "metadata": {},
   "source": [
    "a.easy to learn\n",
    "b.rich in library\n",
    "c. versatality and simplicity\n",
    "d. huge active community\n",
    "e. open sourse\n",
    "f. free to access"
   ]
  },
  {
   "cell_type": "markdown",
   "id": "209e423e-7cf4-4cae-b586-d8ef40ea4602",
   "metadata": {},
   "source": [
    "## QUESTION NO.2"
   ]
  },
  {
   "cell_type": "markdown",
   "id": "e98ed497-1c1e-4515-b771-8c408dac1730",
   "metadata": {},
   "source": [
    "## predefined keywords"
   ]
  },
  {
   "cell_type": "raw",
   "id": "d8e04de1-bdbf-4ba5-bb0f-a98571f60930",
   "metadata": {},
   "source": [
    "predefined keywords  are reserved words and has special meaning which can be use for special purpose.\n",
    "here are some keywords are= not,else,if and,with,for,or etc. keywords are green in colour and displayed the logic in statement."
   ]
  },
  {
   "cell_type": "raw",
   "id": "e820f123-8df6-4cb6-83e7-7a83782c16f0",
   "metadata": {},
   "source": [
    "examples"
   ]
  },
  {
   "cell_type": "code",
   "execution_count": 6,
   "id": "7db7b4cd-7896-41ee-ae4c-b08fa2930bd1",
   "metadata": {},
   "outputs": [
    {
     "name": "stdout",
     "output_type": "stream",
     "text": [
      "a is less than b\n"
     ]
    }
   ],
   "source": [
    "a=5\n",
    "b=10\n",
    "if (a<b):\n",
    "    print(\"a is less than b\")\n",
    "else:\n",
    "    print(\"b is grater than a\")"
   ]
  },
  {
   "cell_type": "code",
   "execution_count": 2,
   "id": "b9e90cb3-285a-4217-8824-6276b0e99203",
   "metadata": {},
   "outputs": [
    {
     "data": {
      "text/plain": [
       "8"
      ]
     },
     "execution_count": 2,
     "metadata": {},
     "output_type": "execute_result"
    }
   ],
   "source": [
    "a=8\n",
    "b=10\n",
    "a"
   ]
  },
  {
   "cell_type": "code",
   "execution_count": 11,
   "id": "c07db554-c693-41e6-9945-b24feeb4c2d3",
   "metadata": {},
   "outputs": [
    {
     "data": {
      "text/plain": [
       "True"
      ]
     },
     "execution_count": 11,
     "metadata": {},
     "output_type": "execute_result"
    }
   ],
   "source": [
    "b is not a"
   ]
  },
  {
   "cell_type": "code",
   "execution_count": 4,
   "id": "5960a06d-51dc-4262-97f7-44b2222c838d",
   "metadata": {},
   "outputs": [
    {
     "name": "stdin",
     "output_type": "stream",
     "text": [
      "enter your phone no. please: 88886666676\n"
     ]
    },
    {
     "data": {
      "text/plain": [
       "'88886666676'"
      ]
     },
     "execution_count": 4,
     "metadata": {},
     "output_type": "execute_result"
    }
   ],
   "source": [
    "input(\"enter your phone no. please:\")"
   ]
  },
  {
   "cell_type": "code",
   "execution_count": 8,
   "id": "024893f8-94fe-4122-8cf9-321cebd3d50f",
   "metadata": {},
   "outputs": [
    {
     "data": {
      "text/plain": [
       "True"
      ]
     },
     "execution_count": 8,
     "metadata": {},
     "output_type": "execute_result"
    }
   ],
   "source": [
    "True>False"
   ]
  },
  {
   "cell_type": "markdown",
   "id": "aca95b86-fd87-4362-aed5-7731c9d1749d",
   "metadata": {},
   "source": [
    "## QUESTION NO.3"
   ]
  },
  {
   "cell_type": "markdown",
   "id": "f1e40b5e-fe89-4fdb-a552-7c7ba532eb30",
   "metadata": {},
   "source": [
    "### mutable and immutable objects # here and also the keywords"
   ]
  },
  {
   "cell_type": "raw",
   "id": "8fc00e5d-2660-400e-8ef4-312bbd6fd966",
   "metadata": {},
   "source": [
    " Mutable- In which the state or value of container can be change after creating its called mutable or item assignment.ex-List\n",
    "immutable- which can not be change after creating. ex-String"
   ]
  },
  {
   "cell_type": "code",
   "execution_count": 10,
   "id": "990c6678-4dc8-4123-b4da-f25ccde0de65",
   "metadata": {},
   "outputs": [
    {
     "data": {
      "text/plain": [
       "[1, 2, 3, 4, 5, 6]"
      ]
     },
     "execution_count": 10,
     "metadata": {},
     "output_type": "execute_result"
    }
   ],
   "source": [
    "mylist=[1,2,3,4,5,6]\n",
    "mylist"
   ]
  },
  {
   "cell_type": "code",
   "execution_count": 12,
   "id": "66fcb0c0-8b24-41fb-a496-8a6bdc4844d6",
   "metadata": {},
   "outputs": [
    {
     "data": {
      "text/plain": [
       "[1, 2, 3, 8, 5, 6]"
      ]
     },
     "execution_count": 12,
     "metadata": {},
     "output_type": "execute_result"
    }
   ],
   "source": [
    "mylist[3]=8\n",
    "mylist"
   ]
  },
  {
   "cell_type": "code",
   "execution_count": null,
   "id": "92bef2a7-8d19-4f73-97ed-2414f579ce68",
   "metadata": {},
   "outputs": [],
   "source": [
    "# 8 can be replaced with 4. this is change i have made after creaating a list"
   ]
  },
  {
   "cell_type": "code",
   "execution_count": 13,
   "id": "6cf1119c-a355-49d3-a9e0-640626e38f85",
   "metadata": {},
   "outputs": [
    {
     "data": {
      "text/plain": [
       "'ashwini'"
      ]
     },
     "execution_count": 13,
     "metadata": {},
     "output_type": "execute_result"
    }
   ],
   "source": [
    "name=\"ashwini\"\n",
    "name"
   ]
  },
  {
   "cell_type": "code",
   "execution_count": 15,
   "id": "deb584bf-585d-4658-8113-536f0f81362c",
   "metadata": {},
   "outputs": [
    {
     "ename": "TypeError",
     "evalue": "'str' object does not support item assignment",
     "output_type": "error",
     "traceback": [
      "\u001b[1;31m---------------------------------------------------------------------------\u001b[0m",
      "\u001b[1;31mTypeError\u001b[0m                                 Traceback (most recent call last)",
      "Cell \u001b[1;32mIn[15], line 1\u001b[0m\n\u001b[1;32m----> 1\u001b[0m name[\u001b[38;5;241m2\u001b[39m]\u001b[38;5;241m=\u001b[39m\u001b[38;5;241m8\u001b[39m\n\u001b[0;32m      2\u001b[0m name\n",
      "\u001b[1;31mTypeError\u001b[0m: 'str' object does not support item assignment"
     ]
    }
   ],
   "source": [
    "name[2]=8\n",
    "name"
   ]
  },
  {
   "cell_type": "code",
   "execution_count": null,
   "id": "9c16659c-53de-4e7e-ab9d-55bb2847e8e1",
   "metadata": {},
   "outputs": [],
   "source": [
    "# above [15] is the example of immutable"
   ]
  },
  {
   "cell_type": "markdown",
   "id": "f1160de3-fa10-41a4-8791-b3687b182957",
   "metadata": {},
   "source": [
    "## Question no.4"
   ]
  },
  {
   "cell_type": "markdown",
   "id": "3f585089-01dc-4720-a10e-6ac6c8cb5e69",
   "metadata": {},
   "source": [
    "## Types of operator"
   ]
  },
  {
   "cell_type": "raw",
   "id": "28cae640-d6cd-4836-ab8e-c726285b5370",
   "metadata": {},
   "source": [
    "Oprerator: its keyword or special symblos that are used to perform operstions on variable. \n",
    "There are 7 types of operator\n",
    "1. Arithmatic operator\n",
    "2. comparision operator\n",
    "3. logical operator\n",
    "4. bitwise operator\n",
    "5. assignment operator\n",
    "6. membership operator\n",
    "7. identity operator"
   ]
  },
  {
   "cell_type": "markdown",
   "id": "ba1c5a8c-5aa2-45ca-817d-724d6d119c7e",
   "metadata": {},
   "source": [
    "# 1.Arithmatic operator"
   ]
  },
  {
   "cell_type": "code",
   "execution_count": 1,
   "id": "afc57b25-c48c-4263-a19c-f68a80b172d6",
   "metadata": {},
   "outputs": [
    {
     "data": {
      "text/plain": [
       "16"
      ]
     },
     "execution_count": 1,
     "metadata": {},
     "output_type": "execute_result"
    }
   ],
   "source": [
    "2**4 # 4 is  power of 2"
   ]
  },
  {
   "cell_type": "code",
   "execution_count": 2,
   "id": "7fca63de-ccfb-4195-a4e3-1413724251df",
   "metadata": {},
   "outputs": [
    {
     "data": {
      "text/plain": [
       "5.0"
      ]
     },
     "execution_count": 2,
     "metadata": {},
     "output_type": "execute_result"
    }
   ],
   "source": [
    "10/2"
   ]
  },
  {
   "cell_type": "code",
   "execution_count": 3,
   "id": "36d5a2ac-f57e-41b6-afd5-b23f3d0073d2",
   "metadata": {},
   "outputs": [
    {
     "data": {
      "text/plain": [
       "1"
      ]
     },
     "execution_count": 3,
     "metadata": {},
     "output_type": "execute_result"
    }
   ],
   "source": [
    "10%3 # reminder"
   ]
  },
  {
   "cell_type": "code",
   "execution_count": 4,
   "id": "74d0a4d7-a392-4280-99b7-bce9469d94ab",
   "metadata": {},
   "outputs": [
    {
     "data": {
      "text/plain": [
       "13"
      ]
     },
     "execution_count": 4,
     "metadata": {},
     "output_type": "execute_result"
    }
   ],
   "source": [
    "8+5"
   ]
  },
  {
   "cell_type": "raw",
   "id": "33aff4f8-6c0c-49a8-9fab-1e63db5f33d6",
   "metadata": {},
   "source": [
    "this are some example of arithmatic operators"
   ]
  },
  {
   "cell_type": "markdown",
   "id": "317cb147-aba7-4ee0-bd13-dd0ebc8afd9f",
   "metadata": {},
   "source": [
    "# 2. comparision operator"
   ]
  },
  {
   "cell_type": "raw",
   "id": "d5fc8901-62ab-4f2b-813d-d467ac96a94c",
   "metadata": {},
   "source": [
    "outputof comparision is boolean value"
   ]
  },
  {
   "cell_type": "code",
   "execution_count": 5,
   "id": "54596978-ade2-4b77-967d-e38fca4f9b84",
   "metadata": {},
   "outputs": [
    {
     "data": {
      "text/plain": [
       "True"
      ]
     },
     "execution_count": 5,
     "metadata": {},
     "output_type": "execute_result"
    }
   ],
   "source": [
    "2==2"
   ]
  },
  {
   "cell_type": "code",
   "execution_count": 6,
   "id": "c705f423-55b8-48e9-b693-0af076f9ac3a",
   "metadata": {},
   "outputs": [
    {
     "data": {
      "text/plain": [
       "False"
      ]
     },
     "execution_count": 6,
     "metadata": {},
     "output_type": "execute_result"
    }
   ],
   "source": [
    "2==4"
   ]
  },
  {
   "cell_type": "code",
   "execution_count": 7,
   "id": "f6e07b68-1b88-48d8-a51d-4f58d9c28ee8",
   "metadata": {},
   "outputs": [
    {
     "data": {
      "text/plain": [
       "True"
      ]
     },
     "execution_count": 7,
     "metadata": {},
     "output_type": "execute_result"
    }
   ],
   "source": [
    "2!=8"
   ]
  },
  {
   "cell_type": "code",
   "execution_count": 8,
   "id": "ae2cf8a4-ec15-4d56-a129-912f0f00f950",
   "metadata": {},
   "outputs": [
    {
     "data": {
      "text/plain": [
       "False"
      ]
     },
     "execution_count": 8,
     "metadata": {},
     "output_type": "execute_result"
    }
   ],
   "source": [
    "2!=2"
   ]
  },
  {
   "cell_type": "markdown",
   "id": "81cf6188-a3ac-4ed3-9598-b2c615c1aea0",
   "metadata": {},
   "source": [
    "# 3.logical operator"
   ]
  },
  {
   "cell_type": "raw",
   "id": "81fc3e91-791f-4f42-919a-a2c1b9543737",
   "metadata": {},
   "source": [
    "1.and 2. or"
   ]
  },
  {
   "cell_type": "code",
   "execution_count": 11,
   "id": "a828cbed-bad4-46d9-89b6-5fe7845f6ba9",
   "metadata": {},
   "outputs": [
    {
     "data": {
      "text/plain": [
       "0"
      ]
     },
     "execution_count": 11,
     "metadata": {},
     "output_type": "execute_result"
    }
   ],
   "source": [
    "true=1\n",
    "false=0\n",
    "true and false"
   ]
  },
  {
   "cell_type": "code",
   "execution_count": 12,
   "id": "1841712b-ee86-4ade-b5b2-9e048c74c7ab",
   "metadata": {},
   "outputs": [
    {
     "data": {
      "text/plain": [
       "1"
      ]
     },
     "execution_count": 12,
     "metadata": {},
     "output_type": "execute_result"
    }
   ],
   "source": [
    "true and true"
   ]
  },
  {
   "cell_type": "code",
   "execution_count": 13,
   "id": "7f2d56df-f340-46df-9acb-772c61d1a41f",
   "metadata": {},
   "outputs": [
    {
     "data": {
      "text/plain": [
       "1"
      ]
     },
     "execution_count": 13,
     "metadata": {},
     "output_type": "execute_result"
    }
   ],
   "source": [
    "true or true"
   ]
  },
  {
   "cell_type": "code",
   "execution_count": 14,
   "id": "7adee1da-8ab6-4849-83e3-f097c741cc91",
   "metadata": {},
   "outputs": [
    {
     "data": {
      "text/plain": [
       "1"
      ]
     },
     "execution_count": 14,
     "metadata": {},
     "output_type": "execute_result"
    }
   ],
   "source": [
    "true or false"
   ]
  },
  {
   "cell_type": "raw",
   "id": "43b743db-5cbe-4b9b-9894-c11112572aac",
   "metadata": {},
   "source": [
    "not= give the opposite  ans"
   ]
  },
  {
   "cell_type": "markdown",
   "id": "97702448-d556-477b-bbb2-8a29c10aac9e",
   "metadata": {},
   "source": [
    "# 4. assignment operator= any value is assigned to the variable"
   ]
  },
  {
   "cell_type": "code",
   "execution_count": 15,
   "id": "0e5e0685-1397-473d-8844-8c219341891d",
   "metadata": {},
   "outputs": [
    {
     "data": {
      "text/plain": [
       "10"
      ]
     },
     "execution_count": 15,
     "metadata": {},
     "output_type": "execute_result"
    }
   ],
   "source": [
    "b=10\n",
    "b"
   ]
  },
  {
   "cell_type": "code",
   "execution_count": 16,
   "id": "42fb7d22-0401-4e3c-9284-4369fc48ce77",
   "metadata": {},
   "outputs": [
    {
     "data": {
      "text/plain": [
       "11"
      ]
     },
     "execution_count": 16,
     "metadata": {},
     "output_type": "execute_result"
    }
   ],
   "source": [
    "a=5\n",
    "b=6\n",
    "a+b"
   ]
  },
  {
   "cell_type": "code",
   "execution_count": 21,
   "id": "ee20b628-2e3b-40fb-af75-676b27fe9240",
   "metadata": {},
   "outputs": [
    {
     "data": {
      "text/plain": [
       "16"
      ]
     },
     "execution_count": 21,
     "metadata": {},
     "output_type": "execute_result"
    }
   ],
   "source": [
    "b=16\n",
    "b"
   ]
  },
  {
   "cell_type": "code",
   "execution_count": 25,
   "id": "2acaab5b-eb4a-4792-bd5c-1feaaaef32af",
   "metadata": {},
   "outputs": [
    {
     "data": {
      "text/plain": [
       "21"
      ]
     },
     "execution_count": 25,
     "metadata": {},
     "output_type": "execute_result"
    }
   ],
   "source": [
    "b=18\n",
    "b+3\n"
   ]
  },
  {
   "cell_type": "markdown",
   "id": "99a7b2f9-39f8-41a4-ad22-29b98eb46745",
   "metadata": {},
   "source": [
    "# 5.membership operator- in /not in"
   ]
  },
  {
   "cell_type": "code",
   "execution_count": 4,
   "id": "6f14d1d5-30ee-4d09-822d-341134ac2138",
   "metadata": {},
   "outputs": [
    {
     "data": {
      "text/plain": [
       "'ashwini'"
      ]
     },
     "execution_count": 4,
     "metadata": {},
     "output_type": "execute_result"
    }
   ],
   "source": [
    "Z=\"ashwini\"\n",
    "Z"
   ]
  },
  {
   "cell_type": "code",
   "execution_count": 6,
   "id": "316e9382-3f7d-4a63-9780-a894a160a5fd",
   "metadata": {},
   "outputs": [
    {
     "data": {
      "text/plain": [
       "True"
      ]
     },
     "execution_count": 6,
     "metadata": {},
     "output_type": "execute_result"
    }
   ],
   "source": [
    "\"s\" in Z"
   ]
  },
  {
   "cell_type": "code",
   "execution_count": 7,
   "id": "e443af35-712b-468e-ae22-a9f110c78b6e",
   "metadata": {},
   "outputs": [
    {
     "data": {
      "text/plain": [
       "False"
      ]
     },
     "execution_count": 7,
     "metadata": {},
     "output_type": "execute_result"
    }
   ],
   "source": [
    "\"s\" not in Z"
   ]
  },
  {
   "cell_type": "markdown",
   "id": "e64fb00b-2f31-4f29-b258-d5cd9b8c3f5c",
   "metadata": {},
   "source": [
    "# 6. Identity operator= compares the location of 2 object"
   ]
  },
  {
   "cell_type": "code",
   "execution_count": 8,
   "id": "6470ad3a-0b33-4ddd-9323-3e9b1bc42a66",
   "metadata": {},
   "outputs": [
    {
     "data": {
      "text/plain": [
       "2"
      ]
     },
     "execution_count": 8,
     "metadata": {},
     "output_type": "execute_result"
    }
   ],
   "source": [
    "a=2\n",
    "b=10\n",
    "a"
   ]
  },
  {
   "cell_type": "code",
   "execution_count": 9,
   "id": "6936d8d7-719e-455d-8e4c-b4329779c3ac",
   "metadata": {},
   "outputs": [
    {
     "data": {
      "text/plain": [
       "10"
      ]
     },
     "execution_count": 9,
     "metadata": {},
     "output_type": "execute_result"
    }
   ],
   "source": [
    "b"
   ]
  },
  {
   "cell_type": "code",
   "execution_count": 10,
   "id": "a523037c-5fee-4acd-8bcc-8b90bc65a14c",
   "metadata": {},
   "outputs": [
    {
     "data": {
      "text/plain": [
       "False"
      ]
     },
     "execution_count": 10,
     "metadata": {},
     "output_type": "execute_result"
    }
   ],
   "source": [
    " a is b"
   ]
  },
  {
   "cell_type": "code",
   "execution_count": 11,
   "id": "24216a86-7043-4c54-9144-20d529c4fd1d",
   "metadata": {},
   "outputs": [
    {
     "data": {
      "text/plain": [
       "True"
      ]
     },
     "execution_count": 11,
     "metadata": {},
     "output_type": "execute_result"
    }
   ],
   "source": [
    "a is not b"
   ]
  },
  {
   "cell_type": "markdown",
   "id": "9d3e632c-6638-42bb-997e-507b181a18c6",
   "metadata": {},
   "source": [
    "# 7.bitwise operator=in binary or bit level"
   ]
  },
  {
   "cell_type": "code",
   "execution_count": 12,
   "id": "78a04ac8-f0bb-4262-b9cf-f0a84df10b5f",
   "metadata": {},
   "outputs": [
    {
     "data": {
      "text/plain": [
       "'0b1010'"
      ]
     },
     "execution_count": 12,
     "metadata": {},
     "output_type": "execute_result"
    }
   ],
   "source": [
    "bin(10)"
   ]
  },
  {
   "cell_type": "code",
   "execution_count": 13,
   "id": "4b206f23-6a3b-4957-8868-6fe3fe1d853b",
   "metadata": {},
   "outputs": [
    {
     "data": {
      "text/plain": [
       "'0b101'"
      ]
     },
     "execution_count": 13,
     "metadata": {},
     "output_type": "execute_result"
    }
   ],
   "source": [
    "bin(5)"
   ]
  },
  {
   "cell_type": "code",
   "execution_count": 14,
   "id": "aa11cd9d-e7e6-420b-9268-1eca7eb44a10",
   "metadata": {},
   "outputs": [
    {
     "data": {
      "text/plain": [
       "0"
      ]
     },
     "execution_count": 14,
     "metadata": {},
     "output_type": "execute_result"
    }
   ],
   "source": [
    "10 & 5"
   ]
  },
  {
   "cell_type": "code",
   "execution_count": 15,
   "id": "db01efe0-d829-4036-be3e-8e9e977ad0ef",
   "metadata": {},
   "outputs": [
    {
     "data": {
      "text/plain": [
       "10"
      ]
     },
     "execution_count": 15,
     "metadata": {},
     "output_type": "execute_result"
    }
   ],
   "source": [
    "10 & 10"
   ]
  },
  {
   "cell_type": "code",
   "execution_count": 16,
   "id": "f62b5ad5-f6f4-4b7e-96b3-c16ed6706521",
   "metadata": {},
   "outputs": [
    {
     "data": {
      "text/plain": [
       "'0b101'"
      ]
     },
     "execution_count": 16,
     "metadata": {},
     "output_type": "execute_result"
    }
   ],
   "source": [
    "bin(5)"
   ]
  },
  {
   "cell_type": "code",
   "execution_count": 17,
   "id": "21a1db13-793a-4f17-962f-c0c2a3ed5d23",
   "metadata": {},
   "outputs": [
    {
     "data": {
      "text/plain": [
       "'0b1000'"
      ]
     },
     "execution_count": 17,
     "metadata": {},
     "output_type": "execute_result"
    }
   ],
   "source": [
    "bin(8)"
   ]
  },
  {
   "cell_type": "code",
   "execution_count": 22,
   "id": "04f3aadf-4e80-4a91-8bae-1b73b2d7c212",
   "metadata": {},
   "outputs": [
    {
     "data": {
      "text/plain": [
       "256"
      ]
     },
     "execution_count": 22,
     "metadata": {},
     "output_type": "execute_result"
    }
   ],
   "source": [
    "8<<5# example of shift operator(left shift)"
   ]
  },
  {
   "cell_type": "code",
   "execution_count": 23,
   "id": "1d203a4e-8964-4144-8c17-a83a223c881d",
   "metadata": {},
   "outputs": [
    {
     "data": {
      "text/plain": [
       "'0b100000000'"
      ]
     },
     "execution_count": 23,
     "metadata": {},
     "output_type": "execute_result"
    }
   ],
   "source": [
    "bin(256)"
   ]
  },
  {
   "cell_type": "code",
   "execution_count": null,
   "id": "bda8d177-e36a-485b-9a2a-b7709f4fbb6c",
   "metadata": {},
   "outputs": [],
   "source": [
    "# in python we execute  left to right operation.(except only exponential ) parenthisis must be execute first like BODMAS rule."
   ]
  },
  {
   "cell_type": "markdown",
   "id": "cd25bcc8-7446-48a9-954c-d35d070b5dfe",
   "metadata": {},
   "source": [
    "## Question no.5"
   ]
  },
  {
   "cell_type": "raw",
   "id": "3ea12244-13c3-4389-b762-ecb49e37ee5e",
   "metadata": {},
   "source": [
    "typecasting= its used for changing the data type of value to avoide the error of operation between str to int or float"
   ]
  },
  {
   "cell_type": "raw",
   "id": "c3e127e2-aa9a-42dc-803e-aefefdfcd48e",
   "metadata": {},
   "source": [
    "str to int"
   ]
  },
  {
   "cell_type": "code",
   "execution_count": 25,
   "id": "910da042-827e-4b96-9d34-941ab629737d",
   "metadata": {},
   "outputs": [
    {
     "data": {
      "text/plain": [
       "'3'"
      ]
     },
     "execution_count": 25,
     "metadata": {},
     "output_type": "execute_result"
    }
   ],
   "source": [
    "a=\"3\"\n",
    "a"
   ]
  },
  {
   "cell_type": "code",
   "execution_count": 26,
   "id": "dd3088fc-a8cc-4d71-bf22-50f7116179a0",
   "metadata": {},
   "outputs": [
    {
     "data": {
      "text/plain": [
       "str"
      ]
     },
     "execution_count": 26,
     "metadata": {},
     "output_type": "execute_result"
    }
   ],
   "source": [
    "type(a)"
   ]
  },
  {
   "cell_type": "code",
   "execution_count": 33,
   "id": "cbf152ea-c278-448f-ae4f-831f8041bd10",
   "metadata": {},
   "outputs": [
    {
     "data": {
      "text/plain": [
       "3"
      ]
     },
     "execution_count": 33,
     "metadata": {},
     "output_type": "execute_result"
    }
   ],
   "source": [
    "int(a)"
   ]
  },
  {
   "cell_type": "code",
   "execution_count": 32,
   "id": "329a106c-1bad-4edd-acb2-ed9dc0631e1c",
   "metadata": {},
   "outputs": [
    {
     "data": {
      "text/plain": [
       "int"
      ]
     },
     "execution_count": 32,
     "metadata": {},
     "output_type": "execute_result"
    }
   ],
   "source": [
    "type(int(a))"
   ]
  },
  {
   "cell_type": "raw",
   "id": "070bea79-0155-4731-af13-9b320c4a43e1",
   "metadata": {},
   "source": [
    "float to int"
   ]
  },
  {
   "cell_type": "raw",
   "id": "a474d672-87c4-4257-9186-e8d5d5f2f1d7",
   "metadata": {},
   "source": [
    "float to int"
   ]
  },
  {
   "cell_type": "code",
   "execution_count": 35,
   "id": "d744036b-0def-4dc6-ba06-a2858e2b109a",
   "metadata": {},
   "outputs": [
    {
     "data": {
      "text/plain": [
       "2.5"
      ]
     },
     "execution_count": 35,
     "metadata": {},
     "output_type": "execute_result"
    }
   ],
   "source": [
    "b= 2.5\n",
    "b"
   ]
  },
  {
   "cell_type": "code",
   "execution_count": 36,
   "id": "cfda7530-bcbe-4d3f-a2aa-2e9ef658b094",
   "metadata": {},
   "outputs": [
    {
     "data": {
      "text/plain": [
       "float"
      ]
     },
     "execution_count": 36,
     "metadata": {},
     "output_type": "execute_result"
    }
   ],
   "source": [
    "type(b)"
   ]
  },
  {
   "cell_type": "code",
   "execution_count": 38,
   "id": "8c6fe70d-ec2c-4f3c-a85e-949d58677056",
   "metadata": {},
   "outputs": [
    {
     "data": {
      "text/plain": [
       "2"
      ]
     },
     "execution_count": 38,
     "metadata": {},
     "output_type": "execute_result"
    }
   ],
   "source": [
    "int(b)"
   ]
  },
  {
   "cell_type": "code",
   "execution_count": 37,
   "id": "9552f3e2-4cf9-4491-9d42-ce3ba455e4cf",
   "metadata": {},
   "outputs": [
    {
     "data": {
      "text/plain": [
       "int"
      ]
     },
     "execution_count": 37,
     "metadata": {},
     "output_type": "execute_result"
    }
   ],
   "source": [
    "type(int(b))"
   ]
  },
  {
   "cell_type": "markdown",
   "id": "b6db7cc6-c485-488a-8283-7a21c3ff1cbc",
   "metadata": {},
   "source": [
    "## Question no.6"
   ]
  },
  {
   "cell_type": "raw",
   "id": "224ac842-bcd7-4f49-a24c-717867b35294",
   "metadata": {},
   "source": [
    "Conditional statement: it will help the code to make decision based on some precondition.\n",
    "Conditionals in Python are used to execute code based on the evaluation of one or more conditions.\n",
    "Python supports conditional statements such as if, elif (else if), and else to control the flow of execution.\n",
    "if given condition is true then only it will executed.\n",
    "if condition is not true it will not executed."
   ]
  },
  {
   "cell_type": "code",
   "execution_count": 2,
   "id": "5ac5844e-6397-488e-98ac-d34b77c34b42",
   "metadata": {},
   "outputs": [
    {
     "name": "stdout",
     "output_type": "stream",
     "text": [
      "the no is greater than 0\n"
     ]
    }
   ],
   "source": [
    "z=50\n",
    "if(z>0):\n",
    "    print(\"the no is greater than 0\") \n"
   ]
  },
  {
   "cell_type": "code",
   "execution_count": 3,
   "id": "d3b50528-b9bb-40e5-abcb-1ad1656808a3",
   "metadata": {},
   "outputs": [],
   "source": [
    "if(z<0):\n",
    "    print(\"the no is less than 0\")"
   ]
  },
  {
   "cell_type": "code",
   "execution_count": null,
   "id": "d3569025-2549-4690-87c4-fe6c091e5062",
   "metadata": {},
   "outputs": [],
   "source": [
    "# this condition is not executed because its not true."
   ]
  },
  {
   "cell_type": "code",
   "execution_count": 7,
   "id": "aa68834a-f939-4870-b046-9c5e4f3385ee",
   "metadata": {},
   "outputs": [
    {
     "name": "stdout",
     "output_type": "stream",
     "text": [
      "open account  as a minor\n"
     ]
    }
   ],
   "source": [
    "age=15\n",
    "if(age>18):\n",
    "    print (\"eligible for have account in bank as adult\")\n",
    "else:\n",
    "    print(\"open account  as a minor\") "
   ]
  },
  {
   "cell_type": "raw",
   "id": "53866853-561a-47eb-ba62-d1c6df659158",
   "metadata": {},
   "source": [
    "#multiconditional statement:"
   ]
  },
  {
   "cell_type": "code",
   "execution_count": 18,
   "id": "075a7a3a-2f2a-4cb7-a640-05e98cb1f8ce",
   "metadata": {},
   "outputs": [
    {
     "name": "stdout",
     "output_type": "stream",
     "text": [
      " qulaify for shift incharge  position\n"
     ]
    }
   ],
   "source": [
    "marks=55\n",
    "if(marks>60):\n",
    "    print(\"qualify for the position of manager\")\n",
    "elif(marks>55):\n",
    "    print (\"qualify for  the position of assistant manager\")\n",
    "elif(marks<=55):\n",
    "    print(\" qulaify for shift incharge  position\")\n",
    "else:\n",
    "    print(\"not qualify for any position\")\n"
   ]
  },
  {
   "cell_type": "code",
   "execution_count": null,
   "id": "7af275e4-4a3b-44e4-b76c-95eb91df94e4",
   "metadata": {},
   "outputs": [],
   "source": [
    "#nested if else"
   ]
  },
  {
   "cell_type": "code",
   "execution_count": 7,
   "id": "32ba8255-df26-4e76-9205-ce9ceb8c41ae",
   "metadata": {},
   "outputs": [
    {
     "name": "stdout",
     "output_type": "stream",
     "text": [
      "both a and b are grater than 50\n"
     ]
    }
   ],
   "source": [
    "a=51\n",
    "b=55\n",
    "if(b>50):\n",
    "   if(a>50):\n",
    "    print(\"both a and b are grater than 50\")\n",
    "   else:\n",
    "    print(\"a is grater than 50 but b is less than 50\")\n",
    "else:\n",
    "    print(\"a is less than 50 but b is greater than 50\")"
   ]
  },
  {
   "cell_type": "markdown",
   "id": "6fd1c847-f810-4b86-9f0b-3865ac21517a",
   "metadata": {},
   "source": [
    "## QUESTIION NO.7"
   ]
  },
  {
   "cell_type": "raw",
   "id": "9cc4a392-ff4b-4566-b058-726b5ba9d303",
   "metadata": {},
   "source": [
    "There are two types of loop.\n",
    "1. WHILE LOOP= Executed block of code until the conditionis fulfilled.(break keyword is used for terminate the loop, continue= is used for skip the iteration)\n",
    "2. FOR LOOP= Iterate over a sequence of elememts."
   ]
  },
  {
   "cell_type": "code",
   "execution_count": 3,
   "id": "b44043a8-f968-403f-a0a3-2b5aa2afbf56",
   "metadata": {},
   "outputs": [
    {
     "name": "stdout",
     "output_type": "stream",
     "text": [
      "5\n",
      "loop ended\n"
     ]
    }
   ],
   "source": [
    "i=5\n",
    "while i>=5:\n",
    "    print(i)\n",
    "    i-=1\n",
    "    print(\"loop ended\")\n"
   ]
  },
  {
   "cell_type": "code",
   "execution_count": null,
   "id": "95b61008-181d-45ec-8c1f-136561d50f29",
   "metadata": {},
   "outputs": [],
   "source": [
    "i=10\n",
    "while i>=1:\n",
    "    print(i)\n",
    "i-=1"
   ]
  },
  {
   "cell_type": "code",
   "execution_count": 23,
   "id": "b7ae0557-a469-42f3-b8f8-9e924bf0603c",
   "metadata": {},
   "outputs": [
    {
     "data": {
      "text/plain": [
       "[0, 1, 2, 3, 4]"
      ]
     },
     "execution_count": 23,
     "metadata": {},
     "output_type": "execute_result"
    }
   ],
   "source": [
    "list(range(0,5))"
   ]
  },
  {
   "cell_type": "code",
   "execution_count": 29,
   "id": "ef5e4dc2-d60b-4da2-b6b2-3bfbe00550a7",
   "metadata": {},
   "outputs": [
    {
     "name": "stdout",
     "output_type": "stream",
     "text": [
      "0 1 2 3 4 "
     ]
    }
   ],
   "source": [
    "   for i in range(0,5):\n",
    "     print(i,end=\" \")"
   ]
  },
  {
   "cell_type": "code",
   "execution_count": 34,
   "id": "613b4a85-6066-4604-a909-90c538442777",
   "metadata": {},
   "outputs": [
    {
     "name": "stdout",
     "output_type": "stream",
     "text": [
      "this block executed without break\n",
      "this block executed without break\n",
      "2\n",
      "this block executed without break\n",
      "this block executed without break\n"
     ]
    }
   ],
   "source": [
    "for i in range(0,5):\n",
    "    if i==2:\n",
    "        print(i)\n",
    "    else:\n",
    "        print(\"this block executed without break\")"
   ]
  },
  {
   "cell_type": "code",
   "execution_count": null,
   "id": "b1b2886c-e608-4113-a8c5-2c5331b3f8da",
   "metadata": {},
   "outputs": [],
   "source": [
    "i=1\n",
    "while i<=10:\n",
    "    print(2*i)\n",
    "    i+=1"
   ]
  },
  {
   "cell_type": "code",
   "execution_count": null,
   "id": "f5a53e10-6016-4705-ab5d-262cfbd4af4f",
   "metadata": {},
   "outputs": [],
   "source": [
    "#loop problem run on differnt sheet.this sheet show me error in loop operation."
   ]
  }
 ],
 "metadata": {
  "kernelspec": {
   "display_name": "Python 3 (ipykernel)",
   "language": "python",
   "name": "python3"
  },
  "language_info": {
   "codemirror_mode": {
    "name": "ipython",
    "version": 3
   },
   "file_extension": ".py",
   "mimetype": "text/x-python",
   "name": "python",
   "nbconvert_exporter": "python",
   "pygments_lexer": "ipython3",
   "version": "3.12.7"
  }
 },
 "nbformat": 4,
 "nbformat_minor": 5
}
